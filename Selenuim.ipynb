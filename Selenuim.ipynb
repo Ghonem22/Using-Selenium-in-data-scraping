{
 "cells": [
  {
   "cell_type": "code",
   "execution_count": null,
   "metadata": {},
   "outputs": [],
   "source": [
    "#tutorial example for using selenium in data scraping:\n",
    "#using this web \"http://econpy.pythonanywhere.com/ex/001.html\"\n",
    "\n",
    "#first we should install selenium using this line: \"pip install selenium\",\n",
    "#then download selenium driver for chrome:\n",
    "#u can follow this page: \"https://sites.google.com/a/chromium.org/chromedriver/\"\n"
   ]
  },
  {
   "cell_type": "code",
   "execution_count": null,
   "metadata": {},
   "outputs": [],
   "source": [
    "#use selenuim for extracting data from one page:\n",
    "\n",
    "#open website\n",
    "from selenium import webdriver\n",
    "driver = webdriver.Chrome()\n",
    "driver.get(\"http://econpy.pythonanywhere.com/ex/001.html\")\n",
    "\n",
    "#extract buyers and prices using Xpath\n",
    "buyers = driver.find_elements_by_xpath('//div[@title=\"buyer-name\"]')    #Double // means xpath\n",
    "prices= driver.find_elements_by_xpath('//span[@class=\"item-price\"]')\n",
    "\n",
    "# Print out all of the buyers and prices on page:\n",
    "for i in range(len(buyers)):\n",
    "    print(buyers[i].text + \": \" + prices[i].text )\n",
    "\n",
    "# Clean up (close browser once completed task).   \n",
    "driver.close()\n"
   ]
  },
  {
   "cell_type": "code",
   "execution_count": 22,
   "metadata": {},
   "outputs": [],
   "source": [
    "#use selenuim for extracting data from multible pages:\n",
    "\n",
    "#open website\n",
    "from selenium import webdriver\n",
    "driver = webdriver.Chrome()\n",
    "\n",
    "page_num = 5                        #Max num of pages\n",
    "page_digit_num = 3                   #max num of digits that represent each page num, Appear at link\n",
    "\n",
    "#prepare CSV file with two coulmns:\n",
    "with open('results.csv', 'w') as f:\n",
    "    f.write(\"Buyer, Price \\n\")\n",
    "\n",
    "#Loop on all pages:    \n",
    "for i in range(1, page_num + 1):\n",
    "    page_num = (page_digit_num - len(str(i))) * \"0\" + str(i)\n",
    "    url = \"http://econpy.pythonanywhere.com/ex/\" + page_num + \".html\"\n",
    "    driver.get(url)\n",
    "    buyers = driver.find_elements_by_xpath('//div[@title=\"buyer-name\"]')\n",
    "    prices= driver.find_elements_by_xpath('//span[@class=\"item-price\"]')\n",
    "    \n",
    "    with open('results.csv', 'a') as f:\n",
    "        for i in range(len(buyers)):\n",
    "            f.write(buyers[i].text + \",\" + prices[i].text + \"\\n\")\n",
    "    \n",
    "# Clean up (close browser once completed task).   \n",
    "driver.close()\n",
    "    "
   ]
  },
  {
   "cell_type": "code",
   "execution_count": null,
   "metadata": {},
   "outputs": [],
   "source": []
  }
 ],
 "metadata": {
  "kernelspec": {
   "display_name": "Python 3",
   "language": "python",
   "name": "python3"
  },
  "language_info": {
   "codemirror_mode": {
    "name": "ipython",
    "version": 3
   },
   "file_extension": ".py",
   "mimetype": "text/x-python",
   "name": "python",
   "nbconvert_exporter": "python",
   "pygments_lexer": "ipython3",
   "version": "3.7.3"
  }
 },
 "nbformat": 4,
 "nbformat_minor": 2
}
